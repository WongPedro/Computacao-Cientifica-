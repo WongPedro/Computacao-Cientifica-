{
 "cells": [
  {
   "cell_type": "markdown",
   "metadata": {},
   "source": [
    "![CC-BY-SA](https://mirrors.creativecommons.org/presskit/buttons/88x31/svg/by-sa.svg)\n",
    "\n",
    "\n",
    "This notebook was created by [Bernardo Freitas Paulo da Costa](http://www.im.ufrj.br/bernardofpc),\n",
    "and Pedro Angelo Medeiros Fonini\n",
    "and is licensed under Creative Commons BY-SA."
   ]
  },
  {
   "cell_type": "markdown",
   "metadata": {},
   "source": [
    "Antes de enviar este Teste, verifique que tudo está funcionando como esperado.\n",
    "Por exemplo, **rode o código inteiro, do zero**.\n",
    "Para isso, vá no menu, escolha _Kernel_, depois _Restart & Run All_.\n",
    "\n",
    "Verifique, também, que você respondeu todas as questões:\n",
    "* as questões de código têm `YOUR CODE HERE` (e você pode apagar o `raise NotImplemented` ao incluir sua resposta)\n",
    "* as questões discursivas têm \"YOUR ANSWER HERE\"."
   ]
  },
  {
   "cell_type": "markdown",
   "metadata": {},
   "source": [
    "---"
   ]
  },
  {
   "cell_type": "markdown",
   "metadata": {
    "deletable": false,
    "editable": false,
    "nbgrader": {
     "cell_type": "markdown",
     "checksum": "3403b023324ddd2546a79682a94b1158",
     "grade": false,
     "grade_id": "cell-e50d0d3e85ac6adf",
     "locked": true,
     "schema_version": 3,
     "solution": false
    }
   },
   "source": [
    "# Método da secante com extremidades de sinais opostos\n",
    "\n",
    "O método da secante é extremamente eficiente para encontrar raízes de uma função,\n",
    "devido à velocidade de convergência e simplicidade.\n",
    "Entretanto, assim como no caso do método de Newton, não há garantias de que ele convirja.\n",
    "\n",
    "Entretanto, adaptar a idéia do método da bisseção para a secante\n",
    "não dá uma performance tão boa, já que a convergência é apenas linear:\n",
    "na _Regula Falsi_, uma das extremidades permanece fixa a partir de um certo ponto do algoritmo.\n",
    "Pior ainda, dependendo de onde esta extremidade estiver, a velocidade de convergência\n",
    "pode ser menor do que a do método da bisseção!\n",
    "\n",
    "O objetivo deste projeto é estudar algoritmos usando secantes:\n",
    "\n",
    "1. O algoritmo original da secante,\n",
    "2. A implementação da _Regula Falsi_, que mantém extremidades com sinais diferentes;\n",
    "3. O método \"de Illinois\", uma variante mais eficiente."
   ]
  },
  {
   "cell_type": "code",
   "execution_count": 1,
   "metadata": {
    "deletable": false,
    "editable": false,
    "nbgrader": {
     "cell_type": "code",
     "checksum": "e72966e4432e2841e5afa1f9b38941ee",
     "grade": false,
     "grade_id": "cell-3a0d19938392e616",
     "locked": true,
     "schema_version": 3,
     "solution": false,
     "task": false
    }
   },
   "outputs": [],
   "source": [
    "import numpy as np\n",
    "import matplotlib.pyplot as plt"
   ]
  },
  {
   "cell_type": "markdown",
   "metadata": {
    "deletable": false,
    "editable": false,
    "nbgrader": {
     "cell_type": "markdown",
     "checksum": "6b7c933f959c2e7f4410deedbec61096",
     "grade": false,
     "grade_id": "cell-e979f738f7408037",
     "locked": true,
     "schema_version": 3,
     "solution": false,
     "task": false
    }
   },
   "source": [
    "## A bisseção\n",
    "\n",
    "Como vamos trabalhar com métodos de intervalos,\n",
    "é bastante natural incluir a bisseção junto à comparação.\n",
    "\n",
    "A implementação abaixo, recursiva, usa variáveis auxiliares (`fa`, `fb`, por exemplo)\n",
    "para evitar calcular $f(a)$ mais de uma vez ao longo do algoritmo.\n",
    "Além disso, estas variáveis \"a mais\" serão úteis para a secante e o método de Illinois."
   ]
  },
  {
   "cell_type": "code",
   "execution_count": 2,
   "metadata": {
    "deletable": false,
    "editable": false,
    "nbgrader": {
     "cell_type": "code",
     "checksum": "21fe77d6d9ac718ad32adb63ebac678e",
     "grade": false,
     "grade_id": "cell-70f22ef4a2c74489",
     "locked": true,
     "schema_version": 3,
     "solution": false,
     "task": false
    }
   },
   "outputs": [],
   "source": [
    "def bissecao(f,a,b,xtol=1e-8):\n",
    "    \"\"\" Método da bisseção para a função  f  no intervalo  [a,b].\n",
    "\n",
    "        Retorna um número  z,  que garantimos não estar mais longe da raiz do que  xtol,\n",
    "        e as listas de extremidades esquerda e direita produzidas ao longo do algoritmo.\n",
    "    \"\"\"\n",
    "    # Validando a entrada:\n",
    "    fa = f(a)\n",
    "    fb = f(b)\n",
    "    assert(fa*fb < 0)\n",
    "    \n",
    "    # Estrutura recursiva básica\n",
    "    def dividir(a,b,fa,fb):\n",
    "        m = (a+b)/2\n",
    "        # Garantia de erro absoluto \n",
    "        if abs(m-a)/2 < xtol:\n",
    "            return m,[a],[b]\n",
    "        fm = f(m)\n",
    "        if fm == 0:\n",
    "            return m,[a],[b]\n",
    "\n",
    "        if fa*fm < 0:\n",
    "            z,l,r = dividir(a,m,fa,fm)\n",
    "        else:\n",
    "            z,l,r = dividir(m,b,fm,fb)\n",
    "        return z, [a]+l,[b]+r\n",
    "    \n",
    "    z,l,r = dividir(a,b,fa,fb)\n",
    "    return z, np.array(l), np.array(r)"
   ]
  },
  {
   "cell_type": "markdown",
   "metadata": {},
   "source": [
    "## Parte I: O método da secante\n",
    "\n",
    "O método da secante parte de um intervalo $[a,b]$ para o intervalo $[b,s]$,\n",
    "onde $s$ é a raiz da _secante_ ao gráfico de $f$ no intervalo $[a,b]$,\n",
    "ou seja, o ponto $(s,0)$ é a interseção da reta determinada por $(a, f(a))$ e $(b, f(b))$."
   ]
  },
  {
   "cell_type": "markdown",
   "metadata": {},
   "source": [
    "### 1. Cálculo do passo\n",
    "\n",
    "Determine $s$, em função de $a$, $b$, $f(a)$ e $f(b)$."
   ]
  },
  {
   "cell_type": "markdown",
   "metadata": {
    "deletable": false,
    "nbgrader": {
     "cell_type": "markdown",
     "checksum": "e6f84f4df44fff2e892241c713d6d25c",
     "grade": true,
     "grade_id": "passo_sec",
     "locked": false,
     "points": 2,
     "schema_version": 3,
     "solution": true
    }
   },
   "source": [
    "A reta que passa pelos pontos $(a, f(a))$ e $(b, f(b))$ tem forma analítica $y = \\alpha x + \\beta$ tal que:\n",
    "\n",
    "$$\\alpha = \\frac{f(b) - f(a)}{b - a}$$\n",
    "\n",
    "$$\\beta = f(a) - \\alpha a$$\n",
    "\n",
    "Sendo $s$ a raiz dessa reta,\n",
    "\n",
    "$$0 = \\alpha s + \\beta$$\n",
    "\n",
    "$$\\alpha s = - \\beta$$\n",
    "\n",
    "$$s = \\frac{- \\beta}{\\alpha}$$"
   ]
  },
  {
   "cell_type": "markdown",
   "metadata": {},
   "source": [
    "Verifique que a fórmula é **simétrica** em $a$ e $b$\n",
    "(trocando também $f(a)$ por $f(b)$)"
   ]
  },
  {
   "cell_type": "markdown",
   "metadata": {
    "deletable": false,
    "nbgrader": {
     "cell_type": "markdown",
     "checksum": "ad3dc28d6166de662a53f255af812aef",
     "grade": true,
     "grade_id": "passo_sim",
     "locked": false,
     "points": 1,
     "schema_version": 3,
     "solution": true
    }
   },
   "source": [
    "Outro jeito de se calcular $\\alpha$ e $\\beta$ são:\n",
    "\n",
    "$$\\alpha = \\frac{f(a) - f(b)}{a - b}$$\n",
    "\n",
    "$$\\beta = f(b) - \\alpha b$$\n",
    "\n",
    "Que são as mesmas formas achadas anteriorimente mas trocando $a$ por $b$ e vice-versa."
   ]
  },
  {
   "cell_type": "markdown",
   "metadata": {},
   "source": [
    "### 2. Programação\n",
    "\n",
    "Implemente o método da secante, modificando a função de bisseção acima.\n",
    "Ao contrário da bisseção, o método da secante não precisa de sinais opostos,\n",
    "e portanto dispensa alguns testes -\n",
    "entretanto, também não garantimos a convergência,\n",
    "então teremos que introduzir, como no método de Newton, critérios de parada\n",
    "em termos do tamanho do passo e do número máximo de iteração,\n",
    "sem _garantia_ de convergência.\n",
    "\n",
    "Observe que, depois de passar do intervalo $[a,b]$ para $[b,s]$,\n",
    "a \"iteração seguinte\" deve passar para $[s,t]$,\n",
    "onde $t$ é a raiz da secante definida no intervalo $[b,s]$,\n",
    "e assim por diante.\n",
    "Desta forma, e para simplificar o código,\n",
    "o \"intervalo\" $[a,b]$ (e todos os outros seguintes)\n",
    "deve ser entendido de forma \"não-orientada\".\n",
    "Assim, as extremidades \"esquerda\" e \"direita\" não correspondem sempre a $a$ e $b$, respectivamente!"
   ]
  },
  {
   "cell_type": "code",
   "execution_count": 3,
   "metadata": {
    "deletable": false,
    "nbgrader": {
     "cell_type": "code",
     "checksum": "ca2607d703d5d98aaa2bd71ea6c862c2",
     "grade": false,
     "grade_id": "cell-5e084cf5e5eed020",
     "locked": false,
     "schema_version": 3,
     "solution": true,
     "task": false
    }
   },
   "outputs": [],
   "source": [
    "def secante(f,a,b, xtol=1e-8, maxiter=100):\n",
    "    \"\"\" Método da secante para a função  f  no intervalo  [a,b].\n",
    "\n",
    "        Retorna um número  z  e as listas de extremidades esquerda e direita produzidas ao longo do algoritmo,\n",
    "        que pára quando o último passo é menor do que  xtol, ou depois de  maxiter  iterações.\n",
    "    \"\"\"\n",
    "    fa = f(a)\n",
    "    fb = f(b)\n",
    "    \n",
    "    def passo(a, b, fa, fb):\n",
    "        alpha = (fa - fb) / (a - b)\n",
    "        beta = fa - alpha * a\n",
    "        \n",
    "        # 0 = alpha * s + beta\n",
    "        # - beta / alpha = s\n",
    "        return -beta / alpha\n",
    "    \n",
    "    # Estrutura recursiva básica\n",
    "    def dividir(a,b,fa,fb, niters):\n",
    "        \n",
    "        s = passo(a, b, fa, fb)\n",
    "        if (\n",
    "            niters == maxiter or\n",
    "            abs(a - b) < xtol or\n",
    "            abs(b - s) < xtol\n",
    "        ):\n",
    "            return s, [a], [b]\n",
    "\n",
    "        fs = f(s)\n",
    "        if fs == 0:\n",
    "            return s, [a], [b]\n",
    "\n",
    "        z,l,r = dividir(b, s, fb, fs, niters + 1)\n",
    "        return z, [a] + l, [b] + r\n",
    "    \n",
    "    z,l,r = dividir(a,b,fa,fb, 0)\n",
    "    return z, np.array(l), np.array(r)"
   ]
  },
  {
   "cell_type": "markdown",
   "metadata": {},
   "source": [
    "As caixas a segiur contém testes do seu método"
   ]
  },
  {
   "cell_type": "code",
   "execution_count": 4,
   "metadata": {
    "deletable": false,
    "editable": false,
    "nbgrader": {
     "cell_type": "code",
     "checksum": "a0a6f0142666d9954ff0ea27e7a23e88",
     "grade": true,
     "grade_id": "sec_teste1",
     "locked": true,
     "points": 1,
     "schema_version": 3,
     "solution": false
    }
   },
   "outputs": [],
   "source": [
    "z,_,_ = secante(np.sin,2,4)\n",
    "assert( abs(z-np.pi) < 1e-8 )"
   ]
  },
  {
   "cell_type": "code",
   "execution_count": 5,
   "metadata": {
    "deletable": false,
    "editable": false,
    "nbgrader": {
     "cell_type": "code",
     "checksum": "5a0048e2562a4259ac0a491f918ec218",
     "grade": true,
     "grade_id": "sec_teste3",
     "locked": true,
     "points": 2,
     "schema_version": 3,
     "solution": false
    }
   },
   "outputs": [],
   "source": [
    "# Esse teste é mais sério para a tolerância\n",
    "def f(x):\n",
    "    return 35*x**2 - x - 1\n",
    "z,_,_ = secante(f,0,2,xtol=1e-12)\n",
    "assert ( abs(z - (np.sqrt(141)+1)/70)  < 1e-12 )"
   ]
  },
  {
   "cell_type": "code",
   "execution_count": 6,
   "metadata": {
    "deletable": false,
    "editable": false,
    "nbgrader": {
     "cell_type": "code",
     "checksum": "4e75688ce6c9c56df949a2311c7f9c2f",
     "grade": true,
     "grade_id": "sec_teste4",
     "locked": true,
     "points": 2,
     "schema_version": 3,
     "solution": false
    }
   },
   "outputs": [],
   "source": [
    "# Esse teste é mais sério para $f(z) = 0$\n",
    "z,l,r = secante(np.cos,0,2,xtol=1e-16)\n",
    "assert (abs(z-np.pi/2) < 1e-16)"
   ]
  },
  {
   "cell_type": "markdown",
   "metadata": {},
   "source": [
    "### 3. Um gráfico\n",
    "\n",
    "A vantagem de retornar ambas extremidades do intervalo é que podemos fazer o gráfico do erro em função\n",
    "do número de chamadas à função pedindo apenas uma tolerância suficientemente pequena.\n",
    "\n",
    "\n",
    "Considere a função $f(x) = \\sin(x)$ no intervalo $[0,1]$.\n",
    "Faça o gráfico do tamanho do intervalo do método da secante em função do número de passos.\n",
    "Note que o tamanho do intervalo é uma estimativa do erro do método independente do valor real da raiz.\n",
    "Faça no mesmo eixo o gráfico do tamanho do intervalo da bisseção.\n",
    "\n",
    "Pense bem nas escalas que você vai escolher."
   ]
  },
  {
   "cell_type": "code",
   "execution_count": 7,
   "metadata": {
    "deletable": false,
    "nbgrader": {
     "cell_type": "code",
     "checksum": "a40ceab0ea44d0ae0d8c5e958dce4b8c",
     "grade": true,
     "grade_id": "sec_graph1",
     "locked": false,
     "points": 3,
     "schema_version": 3,
     "solution": true
    }
   },
   "outputs": [
    {
     "data": {
      "image/png": "[encoded data removed]",
      "text/plain": [
       "<Figure size 432x288 with 1 Axes>"
      ]
     },
     "metadata": {
      "needs_background": "light"
     },
     "output_type": "display_data"
    }
   ],
   "source": [
    "_, ls, rs = secante(np.sin,2,4)\n",
    "passo_secante = np.array(range(len(ls)))\n",
    "tamanho_secante = [\n",
    "  np.abs(l - r) for l, r in zip(ls, rs)\n",
    "]\n",
    "\n",
    "_, lb, rb = bissecao(np.sin,2,4)\n",
    "passo_bissecao = np.array(range(len(lb)))\n",
    "tamanho_bissecao = [\n",
    "  np.abs(l - r) for l, r in zip(lb, rb)\n",
    "]\n",
    "\n",
    "plt.semilogy(passo_secante,tamanho_secante,label ='Tamanho Secante')\n",
    "plt.semilogy(passo_bissecao,tamanho_bissecao, label = 'Tamanho Bisseção')\n",
    "plt.title('Encontrando uma raiz de $\\sin(x)$ em $[2,4]$')\n",
    "plt.xlabel('Número de Passos')\n",
    "plt.ylabel('Tamanho')\n",
    "plt.grid()\n",
    "plt.legend();"
   ]
  },
  {
   "cell_type": "markdown",
   "metadata": {},
   "source": [
    "### 4. Secante e Newton\n",
    "\n",
    "Veja que o tamanho do intervalo tende bastante rápido a zero.\n",
    "Uma explicação para isso é que a secante, quando intervalo fica pequeno, também é uma boa aproximação da derivada.\n",
    "Que outras similaridades e diferenças há entre o método da secante e o método de Newton?"
   ]
  },
  {
   "cell_type": "markdown",
   "metadata": {
    "deletable": false,
    "nbgrader": {
     "cell_type": "markdown",
     "checksum": "eadf017cd37fb392ae6ba4a7e213a5d5",
     "grade": true,
     "grade_id": "cell-af6da1a1253952e3",
     "locked": false,
     "points": 2,
     "schema_version": 3,
     "solution": true
    }
   },
   "source": [
    "Uma primeira diferença é que o método da secante operada sobre um dado intervalo enquanto o método de Newton opera sobre uma estimativa da raíz.\n",
    "\n",
    "Uma outra diferença é que o método da secante não precisa de derivadas então admite funções que não são $C^1$ no seu intervalo (e também não tem problemas com máximos ou mínimos locais no intervalo), enquanto o método de Newton precisa de funções diferenciáveis. \n",
    "\n",
    "Dito isso, existe uma semelhança na interpretação geométrica dos métodos. No fundo os dois métodos são baseados em desenhar uma reta (a secante ou a tangente) pra achar uma raíz."
   ]
  },
  {
   "cell_type": "markdown",
   "metadata": {},
   "source": [
    "## Parte II: A _Regula Falsi_\n",
    "\n",
    "A _Regula Falsi_ parte de um intervalo $[a,b]$ onde a função $f$ tem sinais opostos\n",
    "para o intervalo $[a,z]$ ou $[z,b]$, de modo a manter o sinal oposto,\n",
    "o que garante que há uma raiz dentro do intervalo como no método da bisseção.\n",
    "A diferença é que $z$ não é o ponto médio,\n",
    "mas a interseção da reta determinada por $(a, f(a))$ e $(b, f(b))$,\n",
    "como no caso do método da secante."
   ]
  },
  {
   "cell_type": "markdown",
   "metadata": {},
   "source": [
    "Para implementar a _Regula Falsi_, desejamos modificar o mínimo possível a função da bisseção acima.\n",
    "Antes de escrever o código, vamos ver duas coisas."
   ]
  },
  {
   "cell_type": "markdown",
   "metadata": {},
   "source": [
    "### 5. Estimativa de erro da raiz\n",
    "\n",
    "Dados um intervalo $[a,b]$ e o ponto $z$ obtido pelo método da secante,\n",
    "determine o maior erro possível entre $z$ e uma raiz da função.\n",
    "\n",
    "Explique como mudar o teste de saída da função que depende de `tol`."
   ]
  },
  {
   "cell_type": "markdown",
   "metadata": {
    "deletable": false,
    "nbgrader": {
     "cell_type": "markdown",
     "checksum": "7f8d4fb47d7c44b403e57adf9cd27cd7",
     "grade": true,
     "grade_id": "regfalsi_tol",
     "locked": false,
     "points": 3,
     "schema_version": 3,
     "solution": true
    }
   },
   "source": [
    "No pior caso possível, teríamos a raíz em $a$ e a raíz da secante em $b$, logo podemos determinar que $|a - b|$ é um limite superior do erro.\n",
    "\n",
    "Mesmo que essa situação seja extremamente improvável, essa fórmula nos dá uma maneira conservativa e convergente de calcular o erro."
   ]
  },
  {
   "cell_type": "markdown",
   "metadata": {},
   "source": [
    "### 6. Estimativas de $f(z)$.\n",
    "\n",
    "- Suponha que $f(z) = 0$ e que o método _não testasse_ `f(z) == 0`. O que aconteceria na iteração seguinte?\n",
    "- Diga porquê é **melhor** testar esta outra condição em vez de `f(z) == 0`. Dica: calcule `sin(pi)`.\n",
    "\n",
    "Por razões de simetria, é mais razoável implementar o teste com `a` e `b`."
   ]
  },
  {
   "cell_type": "markdown",
   "metadata": {
    "deletable": false,
    "nbgrader": {
     "cell_type": "markdown",
     "checksum": "19718f9a4bd91daa7aceb0954d82dd47",
     "grade": true,
     "grade_id": "regfalsi_zero",
     "locked": false,
     "points": 5,
     "schema_version": 3,
     "solution": true
    }
   },
   "source": [
    "Suponha que temos um intervalo $[a,b]$ e que fazendo o método da secante, nós descobrimos $s$ tal que $f(s) == 0$.\n",
    "\n",
    "Então o método vai dividir o intervalo em $[s,b]$, e na próxima iteração acharemos o intervalo $[s,s]$ e o método converge pelo tamanho do intervalo.\n",
    "\n",
    "No método da Regula Falsi, assumamos sem perda de generalidade que o a raíz $s$ tem mesmo sinal que $a$, então na próxima iteração teríamos o intervalo $[s, b]$, necessariamente o algoritmo vai dar como raíz da secante, $s$.\n",
    "\n",
    "Logo a próxima iteração também teria o intervalo $[s,b]$, logo se o intervalo se manteve entre duas iterações, podemos dizer que o algoritmo achou a raíz."
   ]
  },
  {
   "cell_type": "code",
   "execution_count": 8,
   "metadata": {},
   "outputs": [],
   "source": [
    "# Você pode usar esta caixa (e outras antes do item 3) para fazer testes se você quiser."
   ]
  },
  {
   "cell_type": "markdown",
   "metadata": {},
   "source": [
    "### 7. Implementando a _Regula Falsi_\n",
    "\n",
    "Agora sim, adapte o código da bisseção para a _Regula Falsi_,\n",
    "incluindo as modificações indicadas acima."
   ]
  },
  {
   "cell_type": "code",
   "execution_count": 9,
   "metadata": {
    "deletable": false,
    "nbgrader": {
     "cell_type": "code",
     "checksum": "d5fc3c647420ffcc2b10940125a47381",
     "grade": false,
     "grade_id": "regfalsi",
     "locked": false,
     "schema_version": 3,
     "solution": true
    }
   },
   "outputs": [],
   "source": [
    "def regula_falsi(f,a,b,xtol=1e-8):\n",
    "    \"\"\"Método Regula false para uma uma função f no intervalo [a,b].\n",
    "    \n",
    "             Retorna um número  z  e as listas de extremidades esquerda e direita produzidas ao longo do algoritmo,\n",
    "        que pára quando o último passo é menor do que  xtol \"\"\"\n",
    "    fa = f(a)\n",
    "    fb = f(b)\n",
    "    assert(fa*fb < 0)\n",
    "    \n",
    "    def dividir(a,b,fa,fb):\n",
    "        s = (fa*b - a*fb)/(fa - fb)\n",
    "        if a == s or b == s:\n",
    "            return s,[a],[b]\n",
    "        \n",
    "        if abs(b-a) < xtol:\n",
    "            return s,[a],[b]\n",
    "        \n",
    "        fs = f(s)\n",
    "        if fa * fs < 0:\n",
    "            z,l,r = dividir(a,s,fa,fs)\n",
    "        else:\n",
    "            z,l,r = dividir(s,b,fs,fb)\n",
    "        return z, [a]+l,[b]+r\n",
    "    \n",
    "    z,l,r = dividir(a,b,fa,fb)\n",
    "    return z, np.array(l), np.array(r)"
   ]
  },
  {
   "cell_type": "code",
   "execution_count": 10,
   "metadata": {},
   "outputs": [
    {
     "data": {
      "text/plain": [
       "0.0"
      ]
     },
     "execution_count": 10,
     "metadata": {},
     "output_type": "execute_result"
    }
   ],
   "source": [
    "# Teste aqui se a sua função está funcionando.\n",
    "z,l,r = regula_falsi(np.sin,2,4)\n",
    "z - np.pi"
   ]
  },
  {
   "cell_type": "markdown",
   "metadata": {},
   "source": [
    "As quatro caixas a segiur contém testes do seu método"
   ]
  },
  {
   "cell_type": "code",
   "execution_count": 11,
   "metadata": {
    "deletable": false,
    "editable": false,
    "nbgrader": {
     "cell_type": "code",
     "checksum": "abd9408650348d95fc0e492a47cdaeaa",
     "grade": true,
     "grade_id": "regfalsi_teste1",
     "locked": true,
     "points": 1,
     "schema_version": 3,
     "solution": false
    },
    "scrolled": true
   },
   "outputs": [],
   "source": [
    "z,_,_ = regula_falsi(np.sin,2,4)\n",
    "assert( abs(z-np.pi) < 1e-8 )"
   ]
  },
  {
   "cell_type": "code",
   "execution_count": 12,
   "metadata": {
    "deletable": false,
    "editable": false,
    "nbgrader": {
     "cell_type": "code",
     "checksum": "e8730f48871a6c47efb7b8f88879ab81",
     "grade": true,
     "grade_id": "regfalsi_teste2",
     "locked": true,
     "points": 1,
     "schema_version": 3,
     "solution": false
    }
   },
   "outputs": [],
   "source": [
    "z,_,_ = regula_falsi(np.cos,0,4)\n",
    "assert( abs(z-np.pi/2) < 1e-8 )"
   ]
  },
  {
   "cell_type": "code",
   "execution_count": 13,
   "metadata": {
    "deletable": false,
    "editable": false,
    "nbgrader": {
     "cell_type": "code",
     "checksum": "1008c5783e716d94442107ff597c27ea",
     "grade": true,
     "grade_id": "regfalsi_teste3",
     "locked": true,
     "points": 2,
     "schema_version": 3,
     "solution": false
    }
   },
   "outputs": [],
   "source": [
    "# Esse teste é mais sério para a tolerância\n",
    "def f(x):\n",
    "    return 35*x**2 - x - 1\n",
    "z,_,_ = regula_falsi(f,0,2,xtol=1e-12)\n",
    "assert ( abs(z - (np.sqrt(141)+1)/70)  < 1e-12 )"
   ]
  },
  {
   "cell_type": "code",
   "execution_count": 14,
   "metadata": {
    "deletable": false,
    "editable": false,
    "nbgrader": {
     "cell_type": "code",
     "checksum": "514a9385f2d9892098e38129a12bc886",
     "grade": true,
     "grade_id": "regfalsi_teste4",
     "locked": true,
     "points": 2,
     "schema_version": 3,
     "solution": false
    }
   },
   "outputs": [],
   "source": [
    "# Esse teste é mais sério para $f(z) = 0$\n",
    "z,l,r = regula_falsi(np.cos,0,2,xtol=1e-16)\n",
    "assert (abs(z-np.pi/2) < 1e-16)"
   ]
  },
  {
   "cell_type": "markdown",
   "metadata": {},
   "source": [
    "### 8. Um gráfico\n",
    "\n",
    "A vantagem de retornar ambas extremidades do intervalo é que podemos fazer o gráfico do erro em função\n",
    "do número de chamadas à função pedindo apenas uma tolerância suficientemente pequena.\n",
    "\n",
    "\n",
    "Considere a função $f(x) = \\sin(x)$ no intervalo $[0,1]$.\n",
    "Faça o gráfico do tamanho do intervalo da _regula falsi_ em função do número de passos.\n",
    "Note que o tamanho do intervalo é uma estimativa do erro do método independente do valor real da raiz.\n",
    "Faça no mesmo eixo o gráfico do tamanho do intervalo da bisseção.\n",
    "\n",
    "Pense bem nas escalas que você vai escolher."
   ]
  },
  {
   "cell_type": "code",
   "execution_count": 15,
   "metadata": {
    "deletable": false,
    "nbgrader": {
     "cell_type": "code",
     "checksum": "284ff0b709dadb8b151480318dfd421f",
     "grade": true,
     "grade_id": "regfalsi_graph1",
     "locked": false,
     "points": 3,
     "schema_version": 3,
     "solution": true
    }
   },
   "outputs": [
    {
     "data": {
      "image/png": "[encoded data removed]",
      "text/plain": [
       "<Figure size 432x288 with 1 Axes>"
      ]
     },
     "metadata": {
      "needs_background": "light"
     },
     "output_type": "display_data"
    }
   ],
   "source": [
    "_, lrf, rrf = regula_falsi(np.sin,2,4,xtol=1e-14)\n",
    "passo_regula_falsi = np.array(range(len(lrf)))\n",
    "tamanho_regula_falsi = [\n",
    "  np.abs(l - r) for l, r in zip(lrf, rrf)\n",
    "]\n",
    "\n",
    "_, lb, rb = bissecao(np.sin,2,4, xtol=1e-14)\n",
    "passo_bissecao = np.array(range(len(lb)))\n",
    "tamanho_bissecao = [\n",
    "  np.abs(l - r) for l, r in zip(lb, rb)\n",
    "]\n",
    "\n",
    "plt.semilogy(passo_regula_falsi, tamanho_regula_falsi,label = 'Tamanho Regula Falsi')\n",
    "plt.semilogy(passo_bissecao, tamanho_bissecao,label = 'Tamanho Bisseção')\n",
    "plt.title('Encontrando uma raiz de $\\sin(x)$ em $[2,4]$')\n",
    "plt.xlabel('Número de Passos')\n",
    "plt.ylabel('Tamanho')\n",
    "plt.legend()\n",
    "plt.grid();"
   ]
  },
  {
   "cell_type": "markdown",
   "metadata": {},
   "source": [
    "### 9. Uma outra função\n",
    "\n",
    "Agora, faça o gráfico para a função $g(x) = \\sin(x) - 0.5$ também no intervalo $[0,1]$.\n",
    "O que você vê de diferente?"
   ]
  },
  {
   "cell_type": "code",
   "execution_count": 16,
   "metadata": {
    "deletable": false,
    "nbgrader": {
     "cell_type": "code",
     "checksum": "c60e36c6d2d21447b03eca9319bb4e08",
     "grade": true,
     "grade_id": "regfalsi_graph2",
     "locked": false,
     "points": 3,
     "schema_version": 3,
     "solution": true
    }
   },
   "outputs": [
    {
     "data": {
      "image/png": "[encoded data removed]",
      "text/plain": [
       "<Figure size 432x288 with 1 Axes>"
      ]
     },
     "metadata": {
      "needs_background": "light"
     },
     "output_type": "display_data"
    }
   ],
   "source": [
    "def g(x):\n",
    "    return np.sin(x) - 0.5\n",
    "\n",
    "_, lrf, rrf = regula_falsi(g,0,1)\n",
    "_, lb, rb = bissecao(g,0,1)\n",
    "tamanho_regula_falsi = [\n",
    "  np.abs(l - r) for l, r in zip(lrf, rrf)\n",
    "]\n",
    "\n",
    "passo_regula_falsi = np.array(range(len(lrf)))\n",
    "\n",
    "tamanho_bissecao = [\n",
    "  np.abs(l - r) for l, r in zip(lb, rb)\n",
    "]\n",
    "passo_bissecao = np.array(range(len(lb)))\n",
    "\n",
    "plt.plot(passo_regula_falsi,tamanho_regula_falsi,label = 'Tamanho Regula Falsi')\n",
    "plt.plot(passo_bissecao,tamanho_bissecao,label = 'Tamanho Bisseção')\n",
    "plt.title('Uma raiz de $g(x)$')\n",
    "plt.xlabel('Número de Passos')\n",
    "plt.ylabel('Tamanho')\n",
    "plt.legend()\n",
    "plt.grid();"
   ]
  },
  {
   "cell_type": "markdown",
   "metadata": {
    "deletable": false,
    "nbgrader": {
     "cell_type": "markdown",
     "checksum": "b0b618ae34ea789222fc30d411e97a63",
     "grade": true,
     "grade_id": "regfalsi_coments",
     "locked": false,
     "points": 3,
     "schema_version": 3,
     "solution": true
    }
   },
   "source": [
    "No inicio o método da bisseção e da Regula Falsi tem convergências parecidas, mas a Regula Falsi tem um caso patológico que acaba causando convergência linear.\n",
    "\n",
    "Quando a raíz da secante não troca de sinal por várias iterações, o tempo de convergência aumenta drasticamente."
   ]
  },
  {
   "cell_type": "code",
   "execution_count": 17,
   "metadata": {},
   "outputs": [
    {
     "name": "stdout",
     "output_type": "stream",
     "text": [
      "a: 0.0, b: 0.5242632161127955\n",
      "a: 0.0, b: 0.52366067961701\n",
      "a: 0.0, b: 0.5236045392674236\n",
      "a: 0.0, b: 0.5235993122010667\n",
      "a: 0.0, b: 0.5235988255562161\n",
      "a: 0.0, b: 0.523598780249397\n",
      "a: 0.0, b: 0.5235987760313177\n",
      "a: 0.0, b: 0.5235987756386131\n",
      "a: 0.0, b: 0.5235987756020521\n",
      "a: 0.0, b: 0.5235987755986483\n",
      "a: 0.0, b: 0.5235987755983313\n",
      "a: 0.0, b: 0.5235987755983019\n"
     ]
    }
   ],
   "source": [
    "for n in range(3, 15):\n",
    "    print(f'a: {lrf[n]:}, b: {rrf[n]}')"
   ]
  },
  {
   "cell_type": "markdown",
   "metadata": {},
   "source": [
    "## Parte III: O método \"de Illinois\"\n",
    "\n",
    "Para evitar \"_ficar preso_\" de um lado da concavidade da função,\n",
    "uma das idéias mais antigas (diz-se inventada pelo grupo da Universidade de Illinois no início dos anos 50)\n",
    "é **dividir por dois** o valor de $f(a)$ (ou $f(b)$) quando a extremidade correspondente não mudar durante duas iterações consecutivas.\n",
    "Assim, o algoritmo passa a ser:\n",
    "\n",
    "- Calcule `(z,fz)` a partir de `(a,fa)` e `(b,fb)` como no método da secante,\n",
    "- Substitua o par `(x,fx)` que tem o mesmo sinal de `fx` por `(z,fz)` como no método da bisseção,\n",
    "- Se a extremidade restante - digamos `y` - já era uma extremidade na etapa anterior, substitua `(y,fy)` por `(y,fy/2)`."
   ]
  },
  {
   "cell_type": "markdown",
   "metadata": {},
   "source": [
    "### 10. Implemente esta modificação no código da `regula falsi`.\n",
    "Embora exista uma solução com um truque, o mais simples é adicionar um argumento a `dividir`\n",
    "para marcar qual ponto veio da iteração anterior."
   ]
  },
  {
   "cell_type": "code",
   "execution_count": 18,
   "metadata": {
    "deletable": false,
    "nbgrader": {
     "cell_type": "code",
     "checksum": "59cdcc4fad6c824a6afd8d72f8b5d2fd",
     "grade": false,
     "grade_id": "illinois",
     "locked": false,
     "schema_version": 3,
     "solution": true
    }
   },
   "outputs": [],
   "source": [
    "def illinois(f,a,b,xtol=1e-8):\n",
    "    \"\"\"Método Regula false para uma uma função f no intervalo [a,b].\n",
    "    \n",
    "    Retorna um número  z  e as listas de extremidades esquerda e direita produzidas ao longo do algoritmo,\n",
    "    que pára quando o último passo é menor do que  xtol \"\"\"\n",
    "    fa = f(a)\n",
    "    fb = f(b)\n",
    "    assert(fa*fb < 0)\n",
    "    \n",
    "    def dividir(a,b,fa,fb, a_velho, b_velho):\n",
    "        s = (fa*b - a*fb)/(fa - fb)\n",
    "        if a == s or b == s:\n",
    "            return s, [a], [b]\n",
    "        \n",
    "        if abs(b-a) < xtol:\n",
    "            return s,[a],[b]\n",
    "        \n",
    "        fs = f(s)\n",
    "        if fa * fs < 0:\n",
    "            if a == a_velho:\n",
    "                fa /= 2\n",
    "            \n",
    "            z,l,r = dividir(a,s,fa,fs,a,b)\n",
    "        else:\n",
    "            if b == b_velho:\n",
    "                fb /= 2\n",
    "                \n",
    "            z,l,r = dividir(s,b,fs,fb,a,b)\n",
    "        return z, [a]+l,[b]+r\n",
    "    \n",
    "    z,l,r = dividir(a,b,fa,fb,a,b)\n",
    "    return z, np.array(l), np.array(r)\n",
    "\n",
    "\n"
   ]
  },
  {
   "cell_type": "markdown",
   "metadata": {},
   "source": [
    "A seguir, quatro testes análogos ao da _regula falsi_, mas agora para o método de Illinois."
   ]
  },
  {
   "cell_type": "code",
   "execution_count": 19,
   "metadata": {
    "deletable": false,
    "editable": false,
    "nbgrader": {
     "cell_type": "code",
     "checksum": "32e199c8f1c7d846fdcb168fbf71be8f",
     "grade": true,
     "grade_id": "illinois_teste1",
     "locked": true,
     "points": 1,
     "schema_version": 3,
     "solution": false
    }
   },
   "outputs": [],
   "source": [
    "z,_,_ = illinois(np.sin,2,4)\n",
    "assert( abs(z-np.pi) < 1e-8 )"
   ]
  },
  {
   "cell_type": "code",
   "execution_count": 20,
   "metadata": {
    "deletable": false,
    "editable": false,
    "nbgrader": {
     "cell_type": "code",
     "checksum": "cca0ecb94dab7dc5db9cc68c65e6539b",
     "grade": true,
     "grade_id": "illinois_teste2",
     "locked": true,
     "points": 1,
     "schema_version": 3,
     "solution": false
    }
   },
   "outputs": [],
   "source": [
    "z,_,_ = illinois(np.cos,0,4)\n",
    "assert( abs(z-np.pi/2) < 1e-8 )"
   ]
  },
  {
   "cell_type": "code",
   "execution_count": 21,
   "metadata": {
    "deletable": false,
    "editable": false,
    "nbgrader": {
     "cell_type": "code",
     "checksum": "2373678314dd908f52bd5ff7e4322ce1",
     "grade": true,
     "grade_id": "illinois_teste3",
     "locked": true,
     "points": 2,
     "schema_version": 3,
     "solution": false
    }
   },
   "outputs": [],
   "source": [
    "# Esse teste é mais sério para a tolerância\n",
    "def f(x):\n",
    "    return 35*x**2 - x - 1\n",
    "z,_,_ = illinois(f,0,2,xtol=1e-12)\n",
    "assert ( abs(z - (np.sqrt(141)+1)/70)  < 1e-12 )"
   ]
  },
  {
   "cell_type": "code",
   "execution_count": 22,
   "metadata": {
    "deletable": false,
    "editable": false,
    "nbgrader": {
     "cell_type": "code",
     "checksum": "8dbd08ed5dbb60651cd877befcf9e4c0",
     "grade": true,
     "grade_id": "illinois_teste4",
     "locked": true,
     "points": 1,
     "schema_version": 3,
     "solution": false
    }
   },
   "outputs": [],
   "source": [
    "# Esse teste é mais sério para $f(z) = 0$\n",
    "z,l,r = illinois(np.cos,0,2,xtol=1e-16)\n",
    "assert (abs(z-np.pi/2) < 1e-16)"
   ]
  },
  {
   "cell_type": "markdown",
   "metadata": {},
   "source": [
    "### 11. Mais um gráfico\n",
    "\n",
    "Aproveite a função $g$ acima para ver que o método de Illinois não tem o mesmo problema que a _regula falsi_:\n",
    "faça em um mesmo eixo os gráficos do tamanho do intervalo para ambos os métodos. (Não precisa da bisseção)"
   ]
  },
  {
   "cell_type": "code",
   "execution_count": 23,
   "metadata": {
    "deletable": false,
    "nbgrader": {
     "cell_type": "code",
     "checksum": "b2a30a4df76322c89bc311f33b5e78dd",
     "grade": true,
     "grade_id": "regfalsi_vs_illinois",
     "locked": false,
     "points": 3,
     "schema_version": 3,
     "solution": true
    }
   },
   "outputs": [
    {
     "data": {
      "image/png": "[encoded data removed]",
      "text/plain": [
       "<Figure size 432x288 with 1 Axes>"
      ]
     },
     "metadata": {
      "needs_background": "light"
     },
     "output_type": "display_data"
    }
   ],
   "source": [
    "def g(x): return np.sin(x) - .5\n",
    "\n",
    "_, lrf, rrf = regula_falsi(g,0,1)\n",
    "_, lb, rb = illinois(g,0,1)\n",
    "tamanho_regula_falsi = [\n",
    "  np.abs(l - r) for l, r in zip(lrf, rrf)\n",
    "]\n",
    "\n",
    "passo_regula_falsi = np.array(range(len(lrf)))\n",
    "\n",
    "tamanho_illinois = [\n",
    "  np.abs(l - r) for l, r in zip(lb, rb)\n",
    "]\n",
    "passo_illinois = np.array(range(len(lb)))\n",
    "\n",
    "plt.plot(passo_regula_falsi,tamanho_regula_falsi,label = 'Tamanho Regula Falsi')\n",
    "plt.plot(passo_illinois,tamanho_illinois,label = 'Tamanho Illinois')\n",
    "plt.title('Uma raiz de $g(x)$')\n",
    "plt.xlabel('Número de Passos')\n",
    "plt.ylabel('Tamanho')\n",
    "plt.legend()\n",
    "plt.grid();"
   ]
  },
  {
   "cell_type": "markdown",
   "metadata": {},
   "source": [
    "## Parte IV: Análise do método de Illinois\n",
    "\n",
    "Esta parte final faz a análise numérica do método de Illinois,\n",
    "para demonstrar a sua eficiência."
   ]
  },
  {
   "cell_type": "markdown",
   "metadata": {},
   "source": [
    "### 12. Entendendo as iterações do método de Illinois\n",
    "\n",
    "Suponha que $f(x) = Cx^2 + Dx$ com ambos $C$ e $D$ positivos.\n",
    "Suponha também que o método de Illinois está no intervalo $[a,b]$, com $a < 0 < b$ e $f(a) < 0 < f(b)$.\n",
    "\n",
    "- Mostre que $z < 0$.\n",
    "- Mostre que isso implica que somente a extremidade superior pode ficar parada.\n",
    "\n",
    "Observação: Se quiser, escreva $a = -x$ para acertar os sinais."
   ]
  },
  {
   "cell_type": "markdown",
   "metadata": {
    "deletable": false,
    "nbgrader": {
     "cell_type": "markdown",
     "checksum": "a33883c068caa539662a995ca1e0440b",
     "grade": true,
     "grade_id": "illinois_fix",
     "locked": false,
     "points": 3,
     "schema_version": 3,
     "solution": true
    }
   },
   "source": [
    "1. Para provar que $z < 0$, vamos usar a fórmula do passo:\n",
    "\\begin{align*}\n",
    "z = \\frac{f(b)a - f(a)b}{f(b) - f(a)}\n",
    "\\end{align*}\n",
    "\n",
    "Analisando, vemos que $f(b) - f(a)$ com certeza é positivo, então basta analisar o sinal do numerador.\n",
    "Então, queremos provar que:\n",
    "\n",
    "\\begin{align*}\n",
    "f(b)a - f(a)b \\stackrel{?}{<} 0\\\\\n",
    "(Cb^2 + Db)a - (Ca^2 +Da)b \\stackrel{?}{<} 0\\\\\n",
    "Cb^2a - Ca^2b \\stackrel{?}{<} 0\\\\\n",
    "Cab(b - a) \\stackrel{?}{<} 0\n",
    "\\end{align*}\n",
    "\n",
    "Como $a < 0 < b$ e $C>0$, o produto $Cab$ é negativo e portanto podemos concluir que z é com certeza negativo.\n",
    "\n",
    "\\begin{align*}\n",
    "Cab(b - a) < 0\n",
    "\\end{align*}"
   ]
  },
  {
   "cell_type": "code",
   "execution_count": 24,
   "metadata": {},
   "outputs": [
    {
     "data": {
      "image/png": "[encoded data removed]",
      "text/plain": [
       "<Figure size 432x288 with 1 Axes>"
      ]
     },
     "metadata": {
      "needs_background": "light"
     },
     "output_type": "display_data"
    }
   ],
   "source": [
    "def p(x):\n",
    "    return x**2 + x\n",
    "\n",
    "x = np.linspace(-2, 1)\n",
    "y = np.empty(len(x))\n",
    "\n",
    "for i,j in enumerate(x):\n",
    "    y[i] = p(j)\n",
    "\n",
    "plt.plot(x,y)\n",
    "plt.axhline(color = 'black')\n",
    "plt.axvline(color = 'black')\n",
    "plt.axis('off')\n",
    "plt.grid()\n",
    "plt.title('Grafico 1')\n",
    "plt.scatter([-1, 0], [0,0], marker='o', color='b');"
   ]
  },
  {
   "cell_type": "markdown",
   "metadata": {},
   "source": [
    "2. Como $z$ é negativo e está dentro intervalo $[a,0[$, o produto $f(z)f(b)$ também será negativo, logo a extremidade b fica parada"
   ]
  },
  {
   "cell_type": "markdown",
   "metadata": {},
   "source": [
    "### 13. O passo modificado de Illinois\n",
    "\n",
    "Vamos mostrar que o \"passo modificado\" implica em alterar a extremidade superior do intervalo.\n",
    "Para simplificar um pouco as contas,\n",
    "daqui em diante, suponha que $C = D = 1$, e $-1/3 < a < 0 < b < 1/3$.\n",
    "\n",
    "Mostre os três fatos a seguir:\n",
    "\n",
    "1. Nessas condições, $\\lvert z\\rvert < \\lvert ab \\rvert$. e $|a| < |b|$ \n",
    "\n",
    "2. O ponto $(b, f(b)/2)$ está abaixo da reta tangente a $f$ no ponto $(z, f(z))$. (Não substitua o valor de $z$: basta usar a estimativa acima e que $0 < b < 1/3$)\n",
    "\n",
    "3. Enfim, conclua que a interseção da reta ligando $(z, f(z))$ e $(b, f(b)/2)$ com o eixo $X$ é positiva."
   ]
  },
  {
   "cell_type": "markdown",
   "metadata": {
    "deletable": false,
    "nbgrader": {
     "cell_type": "markdown",
     "checksum": "36e3bd896971fe022cc5b1fc198997f4",
     "grade": true,
     "grade_id": "illinois_tangent",
     "locked": false,
     "points": 4,
     "schema_version": 3,
     "solution": true
    }
   },
   "source": [
    " 1. $ \\large \\left | \\frac {ab(b -a)}{(b - a)(b + a + 1)}  \\right | = |ab| \\cdot \\frac{1}{b + a + 1} $ ,mas $\\large 0 < \\frac{1}{b + a + 1} < 1$ então $ \\large  |ab| \\cdot \\frac{1}{b + a + 1} = |z| < |ab| < b^2 < b    $ \n",
    "2. Seja $r$ a reta tangente a curva no ponto $(z,f(z))$, entao $r: y = (2z+1)x - z^2$. Quero mostrar que $y - f(b)/2 > 0$ .\n",
    "\\begin{align*}\n",
    "y = (2z+1)b - z^2 \\text{ , para }  z >= -b^2:\\\\\n",
    "y = (-2b^2+1)b - b^4\\\\\n",
    "(1-2b^2) - b^4 ?> (b^2+b)/2\\\\\n",
    "2(1-b^2) - 2b^4 > b^2 + b\\\\\n",
    "2 - 4b^2 - 2b^3 > b + 1\n",
    "\\end{align*}\n",
    "Veja no gráfico abaixo que para todos os valores de b no intervalo $[0,1/3]$ é valido a desigualdade, o que garante que o ponto $(b,f(b)/2)$ está abaixo da reta tangente a f no ponto $(z,f(z))$ \n",
    "\n",
    "\n",
    "3. $ \\frac {f(z) - f(b)/2}{z - b}(x - z) = y - f(z)$ , quero o ponto (s,0) => $ \\large \\frac {f(z) - f(b)/2}{z - b}(s - z) = 0 - f(z) => s = \\frac{-f(z)\\cdot (z-b)}{f(z) - f(b)/2} +z  =  \\frac{f(z)b - f(b)\\frac{z}{2}}{f(z) - f(b)/2} $ se z = -b (\"menor valor\") =>  $\\large \\frac{f(-b)b - f(b)\\frac{-b}{2}}{f(-b) - f(b)/2} = \\frac {b^2(3b - 1)}{2f(-b) - f(b)} > 0  $,  então s é positivo para todos os valores.\n"
   ]
  },
  {
   "cell_type": "code",
   "execution_count": 25,
   "metadata": {},
   "outputs": [
    {
     "data": {
      "image/png": "[encoded data removed]",
      "text/plain": [
       "<Figure size 432x288 with 1 Axes>"
      ]
     },
     "metadata": {
      "needs_background": "light"
     },
     "output_type": "display_data"
    }
   ],
   "source": [
    "def f(x): return 2 - 4*x**2 - 2*x**3 \n",
    "def g(x): return x + 1 \n",
    "fs = []\n",
    "gs = []\n",
    "eixo_x = np.linspace(0,1/3)\n",
    "for x in np.linspace(0, 1/3):\n",
    "  fs += [f(x)]\n",
    "  gs += [g(x)]\n",
    "plt.plot(eixo_x,fs,label = 'Lado esquerdo da desigualdade')\n",
    "plt.plot(eixo_x,gs,label = ' Lado direito da desigualdade')\n",
    "plt.title('Grafico 2')\n",
    "plt.legend();"
   ]
  },
  {
   "cell_type": "markdown",
   "metadata": {},
   "source": [
    "### 14. O \"período\" do método de Illinois\n",
    "\n",
    "Com isso, é possível concluir que o método de Illinois, quando suficientemente perto das raízes,\n",
    "tem o seguinte comportamento:\n",
    "\n",
    "1. Uma iteração produz um $z < 0$ de módulo menor do que $b$;\n",
    "2. A iteração seguinte produz outro $z < 0$, e portanto também abaixa o valor de `fb`;\n",
    "3. A terceira iteração produz um valor $z > 0$, e daí em diante esse ciclo se repete."
   ]
  },
  {
   "cell_type": "markdown",
   "metadata": {
    "deletable": false,
    "nbgrader": {
     "cell_type": "markdown",
     "checksum": "d9f7df403011800bc63b9c20c024c340",
     "grade": true,
     "grade_id": "illinois_period",
     "locked": false,
     "points": 3,
     "schema_version": 3,
     "solution": true
    }
   },
   "source": [
    "1. $ \\large \\left | \\frac {ab(b -a)}{(b - a)(b + a + 1)}  \\right | = |ab| \\cdot \\frac{1}{b + a + 1} $ ,mas $\\large 0 < \\frac{1}{b + a + 1} < 1$ então $ \\large  |ab| \\cdot \\frac{1}{b + a + 1} = |z| < |ab| $ mas $\\large |a|<1/3 \\rightarrow |ab| < b/3 < b \\rightarrow |z| < b$\n",
    "2. $\\large [z,b], z' = \\frac {zf(b) - bf(z)}{f(b) - f(z)} < 0 $, pois $\\large f(b) - f(z)$ é positivo e $\\large zf(b) <0$ e $\\large bf(z) < 0$, veja que a função no intervalo dado é estritamente crescente como mostra o grafico e para todo x pertencente ao intervalo $]-1/3,0[    \\large \\rightarrow f(x) < 0$. Então $\\large f(z') \\cdot f(b) < 0 \\rightarrow [z'b] $. Como b se manteve inalterado por duas iterações, então no próximo passo trocaremos o ponto $\\large (b,f(b))$ por $\\large (b,f(b)/2)$\n",
    "3. $\\large [z',b], z\" = \\frac {z'f(b)/2 - bf(z')}{f(b)/2 - f(z')} > 0$ (Veja que é verdade de acordo com o passo $13.3$).$f(z\")> 0$ pois para todos os valores positivos de $x$, $f(x)$ também é positivo (veja no grafico 1) , então  $ f(z\") \\cdot f(z') < 0 \\rightarrow$ trocamos o intervalo para $[z',z\"] $. Como o intervalo gerado continua respeitando as propriedades inciais como $-1/3 < z' < 0 < z\" < 1/3$, pois $z\" < b$ e $z'> a$, garantimos que o ciclo se repete.  "
   ]
  },
  {
   "cell_type": "markdown",
   "metadata": {},
   "source": [
    "### 15. Primeira estimativa de velocidade\n",
    "\n",
    "Agora, se $b$ e $a$ são pequenos, mostre que $z \\sim ab$.\n",
    "Este comportamento \"quadrático\" é o que torna o método da secante rápido."
   ]
  },
  {
   "cell_type": "markdown",
   "metadata": {
    "deletable": false,
    "nbgrader": {
     "cell_type": "markdown",
     "checksum": "c3fcebfb6a098569a53708bafc247927",
     "grade": true,
     "grade_id": "illinois_step",
     "locked": false,
     "points": 2,
     "schema_version": 3,
     "solution": true
    }
   },
   "source": [
    "Pra valores suficientemente pequenos de $a$ temos que pra qualquer $n$ real positivo e $k$ real, $k \\cdot a^n \\sim a$, logo pra qualquer $f$ que é polinomial (ou $C^n$ e portanto expresso como uma série polinomial), $f(a) \\sim a$\n",
    "\n",
    "Uma conclusão análoga pode ser obtida para $b$.\n",
    "\n",
    "Portanto, usando a fórmula do passo, temos que:\n",
    "$$z = \\frac{f(b)a - f(a)b}{f(b) - f(a)}$$\n",
    "\n",
    "$$z \\sim \\frac{f(b)ba - f(a)ba}{f(b) - f(a)}$$\n",
    "\n",
    "$$z \\sim \\frac{(f(b) - f(a))ba}{f(b) - f(a)}$$\n",
    "\n",
    "$$z \\sim ab$$"
   ]
  },
  {
   "cell_type": "markdown",
   "metadata": {},
   "source": [
    "Também é possível mostrar que, após efetuarmos um \"passo modificado\",\n",
    "a iteração seguinte gera uma nova extremidade superior de módulo aproximadamente igual ao da extremidade inferior.\n",
    "Assim, temos que em três passos saímos do intervalo $[a,b]$ para aproximadamente $[-a^2 b, a^2b]$.\n",
    "\n",
    "Portanto, se começarmos de um intervalo $[-x,x]$, em três passos estaremos aproximadamente no intervalo $[-x^3,x^3]$."
   ]
  },
  {
   "cell_type": "markdown",
   "metadata": {},
   "source": [
    "### 16. Estimando a velocidade de convergência\n",
    "\n",
    "- Suponha que no $n$-ésimo passo estamos no intervalo $[-x_n, x_n]$. Tome logaritmos, e deduza uma relação de recorrência aproximada entre $x_n$ e $x_{n+3}$.\n",
    "- Se começamos em $[-x_0, x_0]$, qual é o tamanho (aproximado) do intervalo que atingimos em $3n$ passos?\n",
    "- Conclua que o método de Illinois é super-linear."
   ]
  },
  {
   "cell_type": "markdown",
   "metadata": {
    "deletable": false,
    "nbgrader": {
     "cell_type": "markdown",
     "checksum": "9fffb25b4625575e3d66fe0d967cc790",
     "grade": true,
     "grade_id": "illinois_speed",
     "locked": false,
     "points": 4,
     "schema_version": 3,
     "solution": true
    }
   },
   "source": [
    "### Primeiro ponto:\n",
    "##### Passo 1:\n",
    "$x_{n+1} \\approx -x_n^2$ para $x_n$ pequeno.\n",
    "Considerando que $x_n > 0$, então $x_{n+1} \\cdot x_n < 0$ e nosso intervalo será $[-x_n^2,x_n]$.\n",
    "##### Passo 2:\n",
    "$x_{n+2} \\approx -x_n^3 $, então $x_{n+2}\\cdot x_n < 0$ e o novo intervalo será $[-x_n^3,x_n]$.\n",
    "##### Passo 3: \n",
    "Como o lado direito se repetiu em duas iterações consecutivas, teremos que considerar o ponto $(x_n,f(x_n)/2)$, então:\n",
    "$$x_{n+3} = \\frac{-f(x_n)x_n^3 - 2f(-x_n^3)x_n}{f(x_n) - 2f(-x_n^3)}$$\n",
    "$$x_{n+3} = \\frac{-(x_n^2 + x_n)x_n^3 - 2(x_n^6 - x_n^3)x_n}{(x_n^2 + x_n) - 2(x_n^6 - x_n^3)}$$\n",
    "\n",
    "Mas $x_n$ é muito pequeno, então:\n",
    "$$x_{n+3} = \\frac{-(x_n^2 + x_n)x_n^3 - 2(x_n^6 - x_n^3)x_n}{(x_n^2 + x_n) - 2(x_n^6 - x_n^3)}= \\frac{-2x_n^6 -x_n^5 + x_n^4}{-2x_n^6 - 2x_n^3 + x_n^2 + x_n} \\approx \\frac{x_n^4}{x_n} = x_n^3$$\n",
    "\n",
    "As contas são analogas se considerarmos $x_n < 0$. Portanto $x_n^3 \\cdot -x_n^3 < 0$ => $[-x_n^3,x_n^3] = [-x_{n+3},x_{n+3}]$\n",
    "### Segundo ponto:\n",
    "Queremos provar que $x_{n+3} = x_{n}^3 $\n",
    "#### Indução:\n",
    "1. n = 0: $x_3 = x_0^3$\n",
    "Verdade! Resultado da questão 15 fazendo $x = x_0$ .\n",
    "\n",
    "2. Suponha que vale para algum n natural > 0 , tal que $x_{n+3} = x_{n}^{3}$\n",
    "\n",
    "3. Provar para $n+3$:\n",
    "\n",
    "###### Passo 1:\n",
    "$x_{n+4} \\approx -x_{n+3}^2$ para $x_{n+3}$ pequeno.\n",
    "Considerando que $x_{n+3} > 0$, então $x_{n+3} \\cdot x_{n+4} < 0$ e nosso intervalo será $[-x_{n+3}^2,x_{n+3}]$.\n",
    "\n",
    "###### Passo 2:\n",
    "$x_{n+5} \\approx -x_{n+3}^3 $, então $x_{n+5}\\cdot x_{n+4} < 0$ e o novo intervalo será $[-x_{n+3}^3,x_{n+3}]$.\n",
    "\n",
    "###### Passo 3: \n",
    "Como o lado direito se repetiu em duas iterações consecutivas, teremos que considerar o ponto $(x_{n+3},f(x_{n+3})/2)$, então:\n",
    "$$x_{n+6} = \\frac{-f(x_{n+3})x_{n+3}^3 - 2f(-x_{n+3}^3)x_{n+3}}{f(x_{n+3}) - 2f(-x_{n+3}^3)}$$\n",
    "$$x_{n+6} = \\frac{-(x_{n+3}^2 + x_{n+3})x_{n+3}^3 - 2(x_{n+3}^6 - x_{n+3}^3)x_{n+3}}{(x_{n+3}^2 + x_{n+3}) - 2(x_{n+3}^6 - x_{n+3}^3)}$$\n",
    "\n",
    "Mas $x_{n+3}$ é muito pequeno, então:\n",
    "$$x_{n+6} = \\frac{-(x_{n+3}^2 + x_{n+3})x_{n+3}^3 - 2(x_{n+3}^6 - x_{n+3}^3)x_{n+3}}{(x_{n+3}^2 + x_{n+3}) - 2(x_{n+3}^6 - x_{n+3}^3)} =  \\frac{-2x_{n+3}^6 - x_{n+3}^5 + x_{n+3}^4}{-2x_{n+3}^6 - 2x_{n+3}^3 + x_{n+3}^2 + x_{n+3}} \\approx \\frac{x_{n+3}^4}{x_{n+3}} = x_{n+3}^3$$\n",
    "C.Q.D\n",
    "4. Demostrado o resultado, então $x_3 \\approx x_0^3, x_6 \\approx x_3^3, ... , x_{3n} \\approx x_{3(n-1)}$ => $x_n \\approx x_0^{3^n}$. Logo, o intervalo é aproximadamente $|2x_0^{3^n}|$\n",
    "### Terceiro ponto:\n",
    "$\\large \\lim_{n\\rightarrow \\infty} \\frac{x_n}{x_{n+3}}$ = $\\large \\lim_{n\\rightarrow \\infty} \\frac{x_0^{3^{n}}}{x_0^{3^{n+3}}}$ =  $\\large \\lim_{n\\rightarrow \\infty} \\frac{1}{x_0^{3^{(n+3)} - 3^{n}}}$ = 0 , logo isso mostra que o método de Illinois é super linear. "
   ]
  },
  {
   "cell_type": "code",
   "execution_count": null,
   "metadata": {},
   "outputs": [],
   "source": []
  }
 ],
 "metadata": {
  "@webio": {
   "lastCommId": null,
   "lastKernelId": null
  },
  "hide_input": false,
  "kernelspec": {
   "display_name": "Python 3",
   "language": "python",
   "name": "python3"
  },
  "language_info": {
   "codemirror_mode": {
    "name": "ipython",
    "version": 3
   },
   "file_extension": ".py",
   "mimetype": "text/x-python",
   "name": "python",
   "nbconvert_exporter": "python",
   "pygments_lexer": "ipython3",
   "version": "3.8.3"
  }
 },
 "nbformat": 4,
 "nbformat_minor": 4
}
